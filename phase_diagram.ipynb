{
 "cells": [
  {
   "cell_type": "code",
   "execution_count": null,
   "id": "f1b56c5f-d29f-41c4-b6b8-0021cef81e37",
   "metadata": {},
   "outputs": [],
   "source": [
    "from pycalphad import variables as v, Database, binplot"
   ]
  },
  {
   "cell_type": "code",
   "execution_count": null,
   "id": "92b65749-eb90-42a4-93fa-36714fd7883a",
   "metadata": {},
   "outputs": [],
   "source": [
    "dbf = Database(\"databases/w-ti.TDB\")"
   ]
  },
  {
   "cell_type": "code",
   "execution_count": null,
   "id": "91e11259-b6a3-484a-ba2d-6d76287ab1f6",
   "metadata": {},
   "outputs": [],
   "source": [
    "binplot(dbf, [\"W\",\"TI\",\"VA\"], list(dbf.phases.keys()), {v.T:(500,4000,20), v.X(\"W\"):(0,1,0.01), v.N:1, v.P:1e5})\n"
   ]
  },
  {
   "cell_type": "code",
   "execution_count": null,
   "id": "8591bf0d-7968-4c5b-8127-596622bf62ba",
   "metadata": {},
   "outputs": [],
   "source": []
  }
 ],
 "metadata": {
  "kernelspec": {
   "display_name": "Python 3 (ipykernel)",
   "language": "python",
   "name": "python3"
  },
  "language_info": {
   "codemirror_mode": {
    "name": "ipython",
    "version": 3
   },
   "file_extension": ".py",
   "mimetype": "text/x-python",
   "name": "python",
   "nbconvert_exporter": "python",
   "pygments_lexer": "ipython3",
   "version": "3.12.2"
  }
 },
 "nbformat": 4,
 "nbformat_minor": 5
}
